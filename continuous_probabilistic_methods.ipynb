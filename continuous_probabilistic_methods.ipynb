{
 "cells": [
  {
   "cell_type": "markdown",
   "metadata": {},
   "source": [
    "**`continuous_probabilistic_methods.py` or `continuous_probabilistic_methods.ipynb`**"
   ]
  },
  {
   "cell_type": "code",
   "execution_count": 1,
   "metadata": {},
   "outputs": [],
   "source": [
    "import numpy as np\n",
    "import pandas as pd\n",
    "import seaborn as sns\n",
    "import matplotlib.pyplot as plt\n",
    "%matplotlib inline"
   ]
  },
  {
   "cell_type": "markdown",
   "metadata": {},
   "source": [
    "## Define a function named get_lower_and_upper_bounds that has two arguments:\n",
    "- The first argument is a pandas Series. \n",
    "- The second argument is the multiplier, which should have a default argument of 1.5."
   ]
  },
  {
   "cell_type": "code",
   "execution_count": 2,
   "metadata": {},
   "outputs": [],
   "source": [
    "def get_lower_and_upper_bounds(df, feature, m = 1.5):\n",
    "    '''\n",
    "    get_lower_and_upper_bounds will take in a dataframe's feature:\n",
    "    - calculate it's 1st & 3rd quartiles,\n",
    "    - use their difference to calculate the IQR\n",
    "    - then apply to calculate upper and lower bounds\n",
    "    - using the `m` multiplier\n",
    "    - default multiplier is '1.5'\n",
    "    '''\n",
    "    q1 = df[feature].quantile(.25)\n",
    "    q3 = df[feature].quantile(.75)\n",
    "    \n",
    "    iqr = q3 - q1\n",
    "    \n",
    "    upper_bound = q3 + (m * iqr)\n",
    "    lower_bound = q1 - (m * iqr)\n",
    "    \n",
    "    return upper_bound, lower_bound"
   ]
  },
  {
   "cell_type": "markdown",
   "metadata": {},
   "source": [
    "1. Using [`lemonade.csv`](https://gist.githubusercontent.com/ryanorsinger/19bc7eccd6279661bd13307026628ace/raw/e4b5d6787015a4782f96cad6d1d62a8bdbac54c7/lemonade.csv) dataset and focusing on continuous variables:"
   ]
  },
  {
   "cell_type": "code",
   "execution_count": 3,
   "metadata": {},
   "outputs": [],
   "source": [
    "url = \"https://gist.githubusercontent.com/ryanorsinger/19bc7eccd6279661bd13307026628ace/raw/e4b5d6787015a4782f96cad6d1d62a8bdbac54c7/lemonade.csv\"\n",
    "\n",
    "df = pd.read_csv(url)"
   ]
  },
  {
   "cell_type": "code",
   "execution_count": 4,
   "metadata": {},
   "outputs": [
    {
     "data": {
      "text/html": [
       "<div>\n",
       "<style scoped>\n",
       "    .dataframe tbody tr th:only-of-type {\n",
       "        vertical-align: middle;\n",
       "    }\n",
       "\n",
       "    .dataframe tbody tr th {\n",
       "        vertical-align: top;\n",
       "    }\n",
       "\n",
       "    .dataframe thead th {\n",
       "        text-align: right;\n",
       "    }\n",
       "</style>\n",
       "<table border=\"1\" class=\"dataframe\">\n",
       "  <thead>\n",
       "    <tr style=\"text-align: right;\">\n",
       "      <th></th>\n",
       "      <th>Date</th>\n",
       "      <th>Day</th>\n",
       "      <th>Temperature</th>\n",
       "      <th>Rainfall</th>\n",
       "      <th>Flyers</th>\n",
       "      <th>Price</th>\n",
       "      <th>Sales</th>\n",
       "    </tr>\n",
       "  </thead>\n",
       "  <tbody>\n",
       "    <tr>\n",
       "      <th>0</th>\n",
       "      <td>1/1/17</td>\n",
       "      <td>Sunday</td>\n",
       "      <td>27.0</td>\n",
       "      <td>2.00</td>\n",
       "      <td>15</td>\n",
       "      <td>0.5</td>\n",
       "      <td>10</td>\n",
       "    </tr>\n",
       "    <tr>\n",
       "      <th>1</th>\n",
       "      <td>1/2/17</td>\n",
       "      <td>Monday</td>\n",
       "      <td>28.9</td>\n",
       "      <td>1.33</td>\n",
       "      <td>15</td>\n",
       "      <td>0.5</td>\n",
       "      <td>13</td>\n",
       "    </tr>\n",
       "    <tr>\n",
       "      <th>2</th>\n",
       "      <td>1/3/17</td>\n",
       "      <td>Tuesday</td>\n",
       "      <td>34.5</td>\n",
       "      <td>1.33</td>\n",
       "      <td>27</td>\n",
       "      <td>0.5</td>\n",
       "      <td>15</td>\n",
       "    </tr>\n",
       "    <tr>\n",
       "      <th>3</th>\n",
       "      <td>1/4/17</td>\n",
       "      <td>Wednesday</td>\n",
       "      <td>44.1</td>\n",
       "      <td>1.05</td>\n",
       "      <td>28</td>\n",
       "      <td>0.5</td>\n",
       "      <td>17</td>\n",
       "    </tr>\n",
       "    <tr>\n",
       "      <th>4</th>\n",
       "      <td>1/5/17</td>\n",
       "      <td>Thursday</td>\n",
       "      <td>42.4</td>\n",
       "      <td>1.00</td>\n",
       "      <td>33</td>\n",
       "      <td>0.5</td>\n",
       "      <td>18</td>\n",
       "    </tr>\n",
       "  </tbody>\n",
       "</table>\n",
       "</div>"
      ],
      "text/plain": [
       "     Date        Day  Temperature  Rainfall  Flyers  Price  Sales\n",
       "0  1/1/17     Sunday         27.0      2.00      15    0.5     10\n",
       "1  1/2/17     Monday         28.9      1.33      15    0.5     13\n",
       "2  1/3/17    Tuesday         34.5      1.33      27    0.5     15\n",
       "3  1/4/17  Wednesday         44.1      1.05      28    0.5     17\n",
       "4  1/5/17   Thursday         42.4      1.00      33    0.5     18"
      ]
     },
     "execution_count": 4,
     "metadata": {},
     "output_type": "execute_result"
    }
   ],
   "source": [
    "df.head()"
   ]
  },
  {
   "cell_type": "code",
   "execution_count": 5,
   "metadata": {},
   "outputs": [
    {
     "name": "stdout",
     "output_type": "stream",
     "text": [
      "<class 'pandas.core.frame.DataFrame'>\n",
      "RangeIndex: 365 entries, 0 to 364\n",
      "Data columns (total 7 columns):\n",
      " #   Column       Non-Null Count  Dtype  \n",
      "---  ------       --------------  -----  \n",
      " 0   Date         365 non-null    object \n",
      " 1   Day          365 non-null    object \n",
      " 2   Temperature  365 non-null    float64\n",
      " 3   Rainfall     365 non-null    float64\n",
      " 4   Flyers       365 non-null    int64  \n",
      " 5   Price        365 non-null    float64\n",
      " 6   Sales        365 non-null    int64  \n",
      "dtypes: float64(3), int64(2), object(2)\n",
      "memory usage: 20.1+ KB\n"
     ]
    }
   ],
   "source": [
    "df.info()"
   ]
  },
  {
   "cell_type": "code",
   "execution_count": 6,
   "metadata": {},
   "outputs": [],
   "source": [
    "df.Date = pd.to_datetime(df.Date)"
   ]
  },
  {
   "cell_type": "code",
   "execution_count": 7,
   "metadata": {},
   "outputs": [],
   "source": [
    "df=df.set_index('Date')"
   ]
  },
  {
   "cell_type": "code",
   "execution_count": 8,
   "metadata": {},
   "outputs": [],
   "source": [
    "df['Month'] = df.index.month_name()"
   ]
  },
  {
   "cell_type": "code",
   "execution_count": 9,
   "metadata": {},
   "outputs": [
    {
     "data": {
      "text/html": [
       "<div>\n",
       "<style scoped>\n",
       "    .dataframe tbody tr th:only-of-type {\n",
       "        vertical-align: middle;\n",
       "    }\n",
       "\n",
       "    .dataframe tbody tr th {\n",
       "        vertical-align: top;\n",
       "    }\n",
       "\n",
       "    .dataframe thead th {\n",
       "        text-align: right;\n",
       "    }\n",
       "</style>\n",
       "<table border=\"1\" class=\"dataframe\">\n",
       "  <thead>\n",
       "    <tr style=\"text-align: right;\">\n",
       "      <th></th>\n",
       "      <th>Day</th>\n",
       "      <th>Temperature</th>\n",
       "      <th>Rainfall</th>\n",
       "      <th>Flyers</th>\n",
       "      <th>Price</th>\n",
       "      <th>Sales</th>\n",
       "      <th>Month</th>\n",
       "    </tr>\n",
       "    <tr>\n",
       "      <th>Date</th>\n",
       "      <th></th>\n",
       "      <th></th>\n",
       "      <th></th>\n",
       "      <th></th>\n",
       "      <th></th>\n",
       "      <th></th>\n",
       "      <th></th>\n",
       "    </tr>\n",
       "  </thead>\n",
       "  <tbody>\n",
       "    <tr>\n",
       "      <th>2017-01-01</th>\n",
       "      <td>Sunday</td>\n",
       "      <td>27.0</td>\n",
       "      <td>2.00</td>\n",
       "      <td>15</td>\n",
       "      <td>0.5</td>\n",
       "      <td>10</td>\n",
       "      <td>January</td>\n",
       "    </tr>\n",
       "    <tr>\n",
       "      <th>2017-01-02</th>\n",
       "      <td>Monday</td>\n",
       "      <td>28.9</td>\n",
       "      <td>1.33</td>\n",
       "      <td>15</td>\n",
       "      <td>0.5</td>\n",
       "      <td>13</td>\n",
       "      <td>January</td>\n",
       "    </tr>\n",
       "    <tr>\n",
       "      <th>2017-01-03</th>\n",
       "      <td>Tuesday</td>\n",
       "      <td>34.5</td>\n",
       "      <td>1.33</td>\n",
       "      <td>27</td>\n",
       "      <td>0.5</td>\n",
       "      <td>15</td>\n",
       "      <td>January</td>\n",
       "    </tr>\n",
       "    <tr>\n",
       "      <th>2017-01-04</th>\n",
       "      <td>Wednesday</td>\n",
       "      <td>44.1</td>\n",
       "      <td>1.05</td>\n",
       "      <td>28</td>\n",
       "      <td>0.5</td>\n",
       "      <td>17</td>\n",
       "      <td>January</td>\n",
       "    </tr>\n",
       "    <tr>\n",
       "      <th>2017-01-05</th>\n",
       "      <td>Thursday</td>\n",
       "      <td>42.4</td>\n",
       "      <td>1.00</td>\n",
       "      <td>33</td>\n",
       "      <td>0.5</td>\n",
       "      <td>18</td>\n",
       "      <td>January</td>\n",
       "    </tr>\n",
       "  </tbody>\n",
       "</table>\n",
       "</div>"
      ],
      "text/plain": [
       "                  Day  Temperature  Rainfall  Flyers  Price  Sales    Month\n",
       "Date                                                                       \n",
       "2017-01-01     Sunday         27.0      2.00      15    0.5     10  January\n",
       "2017-01-02     Monday         28.9      1.33      15    0.5     13  January\n",
       "2017-01-03    Tuesday         34.5      1.33      27    0.5     15  January\n",
       "2017-01-04  Wednesday         44.1      1.05      28    0.5     17  January\n",
       "2017-01-05   Thursday         42.4      1.00      33    0.5     18  January"
      ]
     },
     "execution_count": 9,
     "metadata": {},
     "output_type": "execute_result"
    }
   ],
   "source": [
    "df.head()"
   ]
  },
  {
   "cell_type": "code",
   "execution_count": 10,
   "metadata": {},
   "outputs": [
    {
     "data": {
      "text/plain": [
       "<seaborn.axisgrid.PairGrid at 0x7f98e98057c0>"
      ]
     },
     "execution_count": 10,
     "metadata": {},
     "output_type": "execute_result"
    },
    {
     "data": {
      "image/png": "[encoded data removed]",
      "text/plain": [
       "<Figure size 900x900 with 30 Axes>"
      ]
     },
     "metadata": {
      "needs_background": "light"
     },
     "output_type": "display_data"
    }
   ],
   "source": [
    "sns.pairplot(df)"
   ]
  },
  {
   "cell_type": "code",
   "execution_count": 11,
   "metadata": {},
   "outputs": [],
   "source": [
    "columns = ['Temperature', 'Rainfall', 'Flyers', 'Price', 'Sales']\n"
   ]
  },
  {
   "cell_type": "code",
   "execution_count": 12,
   "metadata": {
    "scrolled": true
   },
   "outputs": [
    {
     "name": "stdout",
     "output_type": "stream",
     "text": [
      "Temperature\n"
     ]
    },
    {
     "data": {
      "image/png": "[encoded data removed]",
      "text/plain": [
       "<Figure size 432x288 with 1 Axes>"
      ]
     },
     "metadata": {
      "needs_background": "light"
     },
     "output_type": "display_data"
    },
    {
     "name": "stdout",
     "output_type": "stream",
     "text": [
      "Rainfall\n"
     ]
    },
    {
     "data": {
      "image/png": "[encoded data removed]",
      "text/plain": [
       "<Figure size 432x288 with 1 Axes>"
      ]
     },
     "metadata": {
      "needs_background": "light"
     },
     "output_type": "display_data"
    },
    {
     "name": "stdout",
     "output_type": "stream",
     "text": [
      "Flyers\n"
     ]
    },
    {
     "data": {
      "image/png": "[encoded data removed]",
      "text/plain": [
       "<Figure size 432x288 with 1 Axes>"
      ]
     },
     "metadata": {
      "needs_background": "light"
     },
     "output_type": "display_data"
    },
    {
     "name": "stdout",
     "output_type": "stream",
     "text": [
      "Price\n"
     ]
    },
    {
     "data": {
      "image/png": "[encoded data removed]",
      "text/plain": [
       "<Figure size 432x288 with 1 Axes>"
      ]
     },
     "metadata": {
      "needs_background": "light"
     },
     "output_type": "display_data"
    },
    {
     "name": "stdout",
     "output_type": "stream",
     "text": [
      "Sales\n"
     ]
    },
    {
     "data": {
      "image/png": "[encoded data removed]",
      "text/plain": [
       "<Figure size 432x288 with 1 Axes>"
      ]
     },
     "metadata": {
      "needs_background": "light"
     },
     "output_type": "display_data"
    }
   ],
   "source": [
    "for col in columns:\n",
    "    plt.scatter(df.Month, df[col])\n",
    "    plt.xticks(rotation=90)\n",
    "    print(col)\n",
    "    plt.show()"
   ]
  },
  {
   "cell_type": "code",
   "execution_count": 13,
   "metadata": {
    "scrolled": true
   },
   "outputs": [
    {
     "name": "stdout",
     "output_type": "stream",
     "text": [
      "Temperature\n"
     ]
    },
    {
     "data": {
      "image/png": "[encoded data removed]",
      "text/plain": [
       "<Figure size 432x288 with 1 Axes>"
      ]
     },
     "metadata": {
      "needs_background": "light"
     },
     "output_type": "display_data"
    },
    {
     "name": "stdout",
     "output_type": "stream",
     "text": [
      "Rainfall\n"
     ]
    },
    {
     "data": {
      "image/png": "[encoded data removed]",
      "text/plain": [
       "<Figure size 432x288 with 1 Axes>"
      ]
     },
     "metadata": {
      "needs_background": "light"
     },
     "output_type": "display_data"
    },
    {
     "name": "stdout",
     "output_type": "stream",
     "text": [
      "Flyers\n"
     ]
    },
    {
     "data": {
      "image/png": "[encoded data removed]",
      "text/plain": [
       "<Figure size 432x288 with 1 Axes>"
      ]
     },
     "metadata": {
      "needs_background": "light"
     },
     "output_type": "display_data"
    },
    {
     "name": "stdout",
     "output_type": "stream",
     "text": [
      "Price\n"
     ]
    },
    {
     "data": {
      "image/png": "[encoded data removed]",
      "text/plain": [
       "<Figure size 432x288 with 1 Axes>"
      ]
     },
     "metadata": {
      "needs_background": "light"
     },
     "output_type": "display_data"
    },
    {
     "name": "stdout",
     "output_type": "stream",
     "text": [
      "Sales\n"
     ]
    },
    {
     "data": {
      "image/png": "[encoded data removed]",
      "text/plain": [
       "<Figure size 432x288 with 1 Axes>"
      ]
     },
     "metadata": {
      "needs_background": "light"
     },
     "output_type": "display_data"
    }
   ],
   "source": [
    "for col in columns:\n",
    "    if np.issubdtype(df[col].dtype, np.number):\n",
    "        df[col].hist()\n",
    "        print(col)\n",
    "        plt.show()"
   ]
  },
  {
   "cell_type": "code",
   "execution_count": 14,
   "metadata": {
    "scrolled": true
   },
   "outputs": [
    {
     "name": "stdout",
     "output_type": "stream",
     "text": [
      "Temperature\n"
     ]
    },
    {
     "data": {
      "image/png": "[encoded data removed]",
      "text/plain": [
       "<Figure size 432x288 with 1 Axes>"
      ]
     },
     "metadata": {
      "needs_background": "light"
     },
     "output_type": "display_data"
    },
    {
     "name": "stdout",
     "output_type": "stream",
     "text": [
      "Rainfall\n"
     ]
    },
    {
     "data": {
      "image/png": "[encoded data removed]",
      "text/plain": [
       "<Figure size 432x288 with 1 Axes>"
      ]
     },
     "metadata": {
      "needs_background": "light"
     },
     "output_type": "display_data"
    },
    {
     "name": "stdout",
     "output_type": "stream",
     "text": [
      "Flyers\n"
     ]
    },
    {
     "data": {
      "image/png": "[encoded data removed]",
      "text/plain": [
       "<Figure size 432x288 with 1 Axes>"
      ]
     },
     "metadata": {
      "needs_background": "light"
     },
     "output_type": "display_data"
    },
    {
     "name": "stdout",
     "output_type": "stream",
     "text": [
      "Price\n"
     ]
    },
    {
     "data": {
      "image/png": "[encoded data removed]",
      "text/plain": [
       "<Figure size 432x288 with 1 Axes>"
      ]
     },
     "metadata": {
      "needs_background": "light"
     },
     "output_type": "display_data"
    },
    {
     "name": "stdout",
     "output_type": "stream",
     "text": [
      "Sales\n"
     ]
    },
    {
     "data": {
      "image/png": "[encoded data removed]",
      "text/plain": [
       "<Figure size 432x288 with 1 Axes>"
      ]
     },
     "metadata": {
      "needs_background": "light"
     },
     "output_type": "display_data"
    }
   ],
   "source": [
    "for col in columns:\n",
    "    sns.boxplot(x=col, data=df)\n",
    "    print(col)\n",
    "    plt.show()"
   ]
  },
  {
   "cell_type": "code",
   "execution_count": 15,
   "metadata": {},
   "outputs": [
    {
     "data": {
      "text/plain": [
       "<AxesSubplot:>"
      ]
     },
     "execution_count": 15,
     "metadata": {},
     "output_type": "execute_result"
    },
    {
     "data": {
      "image/png": "[encoded data removed]",
      "text/plain": [
       "<Figure size 432x288 with 1 Axes>"
      ]
     },
     "metadata": {
      "needs_background": "light"
     },
     "output_type": "display_data"
    }
   ],
   "source": [
    "df.boxplot(column = ['Temperature', 'Rainfall', 'Flyers', 'Price', 'Sales'])"
   ]
  },
  {
   "cell_type": "markdown",
   "metadata": {},
   "source": [
    "1.1 Use the IQR Range Rule and the upper and lower bounds to:\n",
    "- identify the **below** outliers of each column of `lemonade.csv`, using the multiplier of 1.5. \n",
    "    - Do these lower outliers make sense?\n",
    "    - Which outliers should be kept? <font color=\"green\">I think Rainfall & Price can be left alone.</font>\n",
    "    \n",
    "- identify the **above** outliers of each column of `lemonade.csv`, using the multiplier of 1.5. \n",
    "    - Do these lower outliers make sense?\n",
    "    - Which outliers should be kept? <font color=\"green\">I think Flyers & Price can be left alone.</font>"
   ]
  },
  {
   "cell_type": "code",
   "execution_count": 16,
   "metadata": {},
   "outputs": [
    {
     "name": "stdout",
     "output_type": "stream",
     "text": [
      "Temperature\n",
      "104.7 16.700000000000003\n",
      "Rainfall\n",
      "1.3 0.26\n",
      "Flyers\n",
      "76.0 4.0\n",
      "Price\n",
      "0.5 0.5\n",
      "Sales\n",
      "45.0 5.0\n"
     ]
    }
   ],
   "source": [
    "for col in columns:\n",
    "    upper_bound, lower_bound = get_lower_and_upper_bounds(df, col, m = 1.5)\n",
    "    print(col)\n",
    "    print(upper_bound, lower_bound)"
   ]
  },
  {
   "cell_type": "code",
   "execution_count": 17,
   "metadata": {
    "scrolled": true
   },
   "outputs": [
    {
     "name": "stdout",
     "output_type": "stream",
     "text": [
      "Temperature\n"
     ]
    },
    {
     "data": {
      "image/png": "[encoded data removed]",
      "text/plain": [
       "<Figure size 432x288 with 1 Axes>"
      ]
     },
     "metadata": {
      "needs_background": "light"
     },
     "output_type": "display_data"
    },
    {
     "name": "stdout",
     "output_type": "stream",
     "text": [
      "Rainfall\n"
     ]
    },
    {
     "data": {
      "image/png": "[encoded data removed]",
      "text/plain": [
       "<Figure size 432x288 with 1 Axes>"
      ]
     },
     "metadata": {
      "needs_background": "light"
     },
     "output_type": "display_data"
    },
    {
     "name": "stdout",
     "output_type": "stream",
     "text": [
      "Flyers\n"
     ]
    },
    {
     "data": {
      "image/png": "[encoded data removed]",
      "text/plain": [
       "<Figure size 432x288 with 1 Axes>"
      ]
     },
     "metadata": {
      "needs_background": "light"
     },
     "output_type": "display_data"
    },
    {
     "name": "stdout",
     "output_type": "stream",
     "text": [
      "Price\n"
     ]
    },
    {
     "data": {
      "image/png": "[encoded data removed]",
      "text/plain": [
       "<Figure size 432x288 with 1 Axes>"
      ]
     },
     "metadata": {
      "needs_background": "light"
     },
     "output_type": "display_data"
    },
    {
     "name": "stdout",
     "output_type": "stream",
     "text": [
      "Sales\n"
     ]
    },
    {
     "data": {
      "image/png": "[encoded data removed]",
      "text/plain": [
       "<Figure size 432x288 with 1 Axes>"
      ]
     },
     "metadata": {
      "needs_background": "light"
     },
     "output_type": "display_data"
    }
   ],
   "source": [
    "for col in columns:\n",
    "    sns.boxplot(x=col, data= df[(df[col] < upper_bound) & (df[col] > lower_bound)])\n",
    "    print(col)\n",
    "    plt.show()"
   ]
  },
  {
   "cell_type": "code",
   "execution_count": 18,
   "metadata": {
    "collapsed": true,
    "jupyter": {
     "outputs_hidden": true,
     "source_hidden": true
    }
   },
   "outputs": [
    {
     "name": "stdout",
     "output_type": "stream",
     "text": [
      " Lower bound for Temperature : 104.7\n",
      " Upper bound for Temperature: 16.700000000000003\n",
      "\n",
      "-----------------\n",
      " Lower bound for Rainfall : 1.3\n",
      " Upper bound for Rainfall: 0.26\n",
      "\n",
      "-----------------\n",
      " Lower bound for Flyers : 76.0\n",
      " Upper bound for Flyers: 4.0\n",
      "\n",
      "-----------------\n",
      " Lower bound for Price : 0.5\n",
      " Upper bound for Price: 0.5\n",
      "\n",
      "-----------------\n",
      " Lower bound for Sales : 45.0\n",
      " Upper bound for Sales: 5.0\n",
      "\n",
      "-----------------\n"
     ]
    }
   ],
   "source": [
    "# at a multiplier of 1.5:\n",
    "outliers = {}\n",
    "for col in columns:\n",
    "    if np.issubdtype(df[col].dtype, np.number):\n",
    "        lower_bound, upper_bound = get_lower_and_upper_bounds(df, col)\n",
    "        print(f' Lower bound for {col} : {lower_bound}\\n Upper bound for {col}: {upper_bound}\\n')\n",
    "        print('-----------------')\n",
    "        outliers[col] = {}\n",
    "        outliers[col]['bounds'] = {'upper': upper_bound, 'lower': lower_bound}\n",
    "        outliers[col]['df'] = df[(df[col] > upper_bound) | (df[col] < lower_bound)]\n",
    "    else:\n",
    "        pass"
   ]
  },
  {
   "cell_type": "code",
   "execution_count": 19,
   "metadata": {
    "collapsed": true,
    "jupyter": {
     "outputs_hidden": true,
     "source_hidden": true
    }
   },
   "outputs": [
    {
     "data": {
      "text/plain": [
       "dict_keys(['Temperature', 'Rainfall', 'Flyers', 'Price', 'Sales'])"
      ]
     },
     "execution_count": 19,
     "metadata": {},
     "output_type": "execute_result"
    }
   ],
   "source": [
    "outliers.keys()"
   ]
  },
  {
   "cell_type": "code",
   "execution_count": 20,
   "metadata": {
    "collapsed": true,
    "jupyter": {
     "outputs_hidden": true,
     "source_hidden": true
    }
   },
   "outputs": [
    {
     "data": {
      "text/plain": [
       "dict_keys(['bounds', 'df'])"
      ]
     },
     "execution_count": 20,
     "metadata": {},
     "output_type": "execute_result"
    }
   ],
   "source": [
    "outliers['Temperature'].keys()"
   ]
  },
  {
   "cell_type": "code",
   "execution_count": 21,
   "metadata": {
    "collapsed": true,
    "jupyter": {
     "outputs_hidden": true,
     "source_hidden": true
    }
   },
   "outputs": [
    {
     "data": {
      "text/html": [
       "<div>\n",
       "<style scoped>\n",
       "    .dataframe tbody tr th:only-of-type {\n",
       "        vertical-align: middle;\n",
       "    }\n",
       "\n",
       "    .dataframe tbody tr th {\n",
       "        vertical-align: top;\n",
       "    }\n",
       "\n",
       "    .dataframe thead th {\n",
       "        text-align: right;\n",
       "    }\n",
       "</style>\n",
       "<table border=\"1\" class=\"dataframe\">\n",
       "  <thead>\n",
       "    <tr style=\"text-align: right;\">\n",
       "      <th></th>\n",
       "      <th>Day</th>\n",
       "      <th>Temperature</th>\n",
       "      <th>Rainfall</th>\n",
       "      <th>Flyers</th>\n",
       "      <th>Price</th>\n",
       "      <th>Sales</th>\n",
       "      <th>Month</th>\n",
       "    </tr>\n",
       "    <tr>\n",
       "      <th>Date</th>\n",
       "      <th></th>\n",
       "      <th></th>\n",
       "      <th></th>\n",
       "      <th></th>\n",
       "      <th></th>\n",
       "      <th></th>\n",
       "      <th></th>\n",
       "    </tr>\n",
       "  </thead>\n",
       "  <tbody>\n",
       "    <tr>\n",
       "      <th>2017-01-01</th>\n",
       "      <td>Sunday</td>\n",
       "      <td>27.0</td>\n",
       "      <td>2.00</td>\n",
       "      <td>15</td>\n",
       "      <td>0.5</td>\n",
       "      <td>10</td>\n",
       "      <td>January</td>\n",
       "    </tr>\n",
       "    <tr>\n",
       "      <th>2017-01-02</th>\n",
       "      <td>Monday</td>\n",
       "      <td>28.9</td>\n",
       "      <td>1.33</td>\n",
       "      <td>15</td>\n",
       "      <td>0.5</td>\n",
       "      <td>13</td>\n",
       "      <td>January</td>\n",
       "    </tr>\n",
       "    <tr>\n",
       "      <th>2017-01-03</th>\n",
       "      <td>Tuesday</td>\n",
       "      <td>34.5</td>\n",
       "      <td>1.33</td>\n",
       "      <td>27</td>\n",
       "      <td>0.5</td>\n",
       "      <td>15</td>\n",
       "      <td>January</td>\n",
       "    </tr>\n",
       "    <tr>\n",
       "      <th>2017-01-04</th>\n",
       "      <td>Wednesday</td>\n",
       "      <td>44.1</td>\n",
       "      <td>1.05</td>\n",
       "      <td>28</td>\n",
       "      <td>0.5</td>\n",
       "      <td>17</td>\n",
       "      <td>January</td>\n",
       "    </tr>\n",
       "    <tr>\n",
       "      <th>2017-01-05</th>\n",
       "      <td>Thursday</td>\n",
       "      <td>42.4</td>\n",
       "      <td>1.00</td>\n",
       "      <td>33</td>\n",
       "      <td>0.5</td>\n",
       "      <td>18</td>\n",
       "      <td>January</td>\n",
       "    </tr>\n",
       "    <tr>\n",
       "      <th>...</th>\n",
       "      <td>...</td>\n",
       "      <td>...</td>\n",
       "      <td>...</td>\n",
       "      <td>...</td>\n",
       "      <td>...</td>\n",
       "      <td>...</td>\n",
       "      <td>...</td>\n",
       "    </tr>\n",
       "    <tr>\n",
       "      <th>2017-12-27</th>\n",
       "      <td>Wednesday</td>\n",
       "      <td>42.7</td>\n",
       "      <td>1.00</td>\n",
       "      <td>33</td>\n",
       "      <td>0.5</td>\n",
       "      <td>19</td>\n",
       "      <td>December</td>\n",
       "    </tr>\n",
       "    <tr>\n",
       "      <th>2017-12-28</th>\n",
       "      <td>Thursday</td>\n",
       "      <td>37.8</td>\n",
       "      <td>1.25</td>\n",
       "      <td>32</td>\n",
       "      <td>0.5</td>\n",
       "      <td>16</td>\n",
       "      <td>December</td>\n",
       "    </tr>\n",
       "    <tr>\n",
       "      <th>2017-12-29</th>\n",
       "      <td>Friday</td>\n",
       "      <td>39.5</td>\n",
       "      <td>1.25</td>\n",
       "      <td>17</td>\n",
       "      <td>0.5</td>\n",
       "      <td>15</td>\n",
       "      <td>December</td>\n",
       "    </tr>\n",
       "    <tr>\n",
       "      <th>2017-12-30</th>\n",
       "      <td>Saturday</td>\n",
       "      <td>30.9</td>\n",
       "      <td>1.43</td>\n",
       "      <td>22</td>\n",
       "      <td>0.5</td>\n",
       "      <td>13</td>\n",
       "      <td>December</td>\n",
       "    </tr>\n",
       "    <tr>\n",
       "      <th>2017-12-31</th>\n",
       "      <td>Sunday</td>\n",
       "      <td>15.1</td>\n",
       "      <td>2.50</td>\n",
       "      <td>9</td>\n",
       "      <td>0.5</td>\n",
       "      <td>7</td>\n",
       "      <td>December</td>\n",
       "    </tr>\n",
       "  </tbody>\n",
       "</table>\n",
       "<p>365 rows × 7 columns</p>\n",
       "</div>"
      ],
      "text/plain": [
       "                  Day  Temperature  Rainfall  Flyers  Price  Sales     Month\n",
       "Date                                                                        \n",
       "2017-01-01     Sunday         27.0      2.00      15    0.5     10   January\n",
       "2017-01-02     Monday         28.9      1.33      15    0.5     13   January\n",
       "2017-01-03    Tuesday         34.5      1.33      27    0.5     15   January\n",
       "2017-01-04  Wednesday         44.1      1.05      28    0.5     17   January\n",
       "2017-01-05   Thursday         42.4      1.00      33    0.5     18   January\n",
       "...               ...          ...       ...     ...    ...    ...       ...\n",
       "2017-12-27  Wednesday         42.7      1.00      33    0.5     19  December\n",
       "2017-12-28   Thursday         37.8      1.25      32    0.5     16  December\n",
       "2017-12-29     Friday         39.5      1.25      17    0.5     15  December\n",
       "2017-12-30   Saturday         30.9      1.43      22    0.5     13  December\n",
       "2017-12-31     Sunday         15.1      2.50       9    0.5      7  December\n",
       "\n",
       "[365 rows x 7 columns]"
      ]
     },
     "execution_count": 21,
     "metadata": {},
     "output_type": "execute_result"
    }
   ],
   "source": [
    "outliers['Temperature']['df']"
   ]
  },
  {
   "cell_type": "markdown",
   "metadata": {},
   "source": [
    "1.2 Using the multiplier of **3**, IQR Range Rule, and the lower and upper bounds, identify the outliers **below** the lower bound in each column of `lemonade.csv`. \n",
    "\n",
    "1.2 Using the multiplier of **3**, IQR Range Rule, and the upper and lower bounds to:\n",
    "- identify the **below** outliers of each column of `lemonade.csv`. \n",
    "    - Do these lower outliers make sense?\n",
    "    - Which outliers should be kept? <font color=\"green\">Price.</font>\n",
    "    \n",
    "- identify the **above** outliers of each column of `lemonade.csv`. \n",
    "    - Do these lower outliers make sense?\n",
    "    - Which outliers should be kept? <font color=\"green\">Rainfall, Flyers & Price .</font>"
   ]
  },
  {
   "cell_type": "code",
   "execution_count": 22,
   "metadata": {},
   "outputs": [
    {
     "data": {
      "text/plain": [
       "<AxesSubplot:>"
      ]
     },
     "execution_count": 22,
     "metadata": {},
     "output_type": "execute_result"
    },
    {
     "data": {
      "image/png": "[encoded data removed]",
      "text/plain": [
       "<Figure size 432x288 with 1 Axes>"
      ]
     },
     "metadata": {
      "needs_background": "light"
     },
     "output_type": "display_data"
    }
   ],
   "source": [
    "df.boxplot(column = ['Temperature', 'Rainfall', 'Flyers', 'Price', 'Sales'])"
   ]
  },
  {
   "cell_type": "code",
   "execution_count": 18,
   "metadata": {},
   "outputs": [
    {
     "name": "stdout",
     "output_type": "stream",
     "text": [
      "Temperature\n",
      "137.7 -16.299999999999997\n",
      "Rainfall\n",
      "1.69 -0.13\n",
      "Flyers\n",
      "103.0 -23.0\n",
      "Price\n",
      "0.5 0.5\n",
      "Sales\n",
      "60.0 -10.0\n"
     ]
    }
   ],
   "source": [
    "for col in columns:\n",
    "    upper_bound, lower_bound = get_lower_and_upper_bounds(df, col, m = 3)\n",
    "    print(col)\n",
    "    print(upper_bound, lower_bound)"
   ]
  },
  {
   "cell_type": "code",
   "execution_count": 19,
   "metadata": {
    "collapsed": true,
    "jupyter": {
     "outputs_hidden": true,
     "source_hidden": true
    },
    "scrolled": true
   },
   "outputs": [
    {
     "name": "stdout",
     "output_type": "stream",
     "text": [
      "Temperature\n"
     ]
    },
    {
     "data": {
      "image/png": "[encoded data removed]",
      "text/plain": [
       "<Figure size 432x288 with 1 Axes>"
      ]
     },
     "metadata": {
      "needs_background": "light"
     },
     "output_type": "display_data"
    },
    {
     "name": "stdout",
     "output_type": "stream",
     "text": [
      "Rainfall\n"
     ]
    },
    {
     "data": {
      "image/png": "[encoded data removed]",
      "text/plain": [
       "<Figure size 432x288 with 1 Axes>"
      ]
     },
     "metadata": {
      "needs_background": "light"
     },
     "output_type": "display_data"
    },
    {
     "name": "stdout",
     "output_type": "stream",
     "text": [
      "Flyers\n"
     ]
    },
    {
     "data": {
      "image/png": "[encoded data removed]",
      "text/plain": [
       "<Figure size 432x288 with 1 Axes>"
      ]
     },
     "metadata": {
      "needs_background": "light"
     },
     "output_type": "display_data"
    },
    {
     "name": "stdout",
     "output_type": "stream",
     "text": [
      "Price\n"
     ]
    },
    {
     "data": {
      "image/png": "[encoded data removed]",
      "text/plain": [
       "<Figure size 432x288 with 1 Axes>"
      ]
     },
     "metadata": {
      "needs_background": "light"
     },
     "output_type": "display_data"
    },
    {
     "name": "stdout",
     "output_type": "stream",
     "text": [
      "Sales\n"
     ]
    },
    {
     "data": {
      "image/png": "[encoded data removed]",
      "text/plain": [
       "<Figure size 432x288 with 1 Axes>"
      ]
     },
     "metadata": {
      "needs_background": "light"
     },
     "output_type": "display_data"
    }
   ],
   "source": [
    "for col in columns:\n",
    "    sns.boxplot(x=col, data=df[df[col] < upper_bound])\n",
    "    print(col)\n",
    "    plt.show()"
   ]
  },
  {
   "cell_type": "code",
   "execution_count": 25,
   "metadata": {
    "collapsed": true,
    "jupyter": {
     "outputs_hidden": true,
     "source_hidden": true
    }
   },
   "outputs": [
    {
     "data": {
      "text/html": [
       "<div>\n",
       "<style scoped>\n",
       "    .dataframe tbody tr th:only-of-type {\n",
       "        vertical-align: middle;\n",
       "    }\n",
       "\n",
       "    .dataframe tbody tr th {\n",
       "        vertical-align: top;\n",
       "    }\n",
       "\n",
       "    .dataframe thead th {\n",
       "        text-align: right;\n",
       "    }\n",
       "</style>\n",
       "<table border=\"1\" class=\"dataframe\">\n",
       "  <thead>\n",
       "    <tr style=\"text-align: right;\">\n",
       "      <th></th>\n",
       "      <th>Day</th>\n",
       "      <th>Temperature</th>\n",
       "      <th>Rainfall</th>\n",
       "      <th>Flyers</th>\n",
       "      <th>Price</th>\n",
       "      <th>Sales</th>\n",
       "      <th>Month</th>\n",
       "    </tr>\n",
       "    <tr>\n",
       "      <th>Date</th>\n",
       "      <th></th>\n",
       "      <th></th>\n",
       "      <th></th>\n",
       "      <th></th>\n",
       "      <th></th>\n",
       "      <th></th>\n",
       "      <th></th>\n",
       "    </tr>\n",
       "  </thead>\n",
       "  <tbody>\n",
       "    <tr>\n",
       "      <th>2017-01-01</th>\n",
       "      <td>Sunday</td>\n",
       "      <td>27.0</td>\n",
       "      <td>2.00</td>\n",
       "      <td>15</td>\n",
       "      <td>0.5</td>\n",
       "      <td>10</td>\n",
       "      <td>January</td>\n",
       "    </tr>\n",
       "    <tr>\n",
       "      <th>2017-01-02</th>\n",
       "      <td>Monday</td>\n",
       "      <td>28.9</td>\n",
       "      <td>1.33</td>\n",
       "      <td>15</td>\n",
       "      <td>0.5</td>\n",
       "      <td>13</td>\n",
       "      <td>January</td>\n",
       "    </tr>\n",
       "    <tr>\n",
       "      <th>2017-01-03</th>\n",
       "      <td>Tuesday</td>\n",
       "      <td>34.5</td>\n",
       "      <td>1.33</td>\n",
       "      <td>27</td>\n",
       "      <td>0.5</td>\n",
       "      <td>15</td>\n",
       "      <td>January</td>\n",
       "    </tr>\n",
       "    <tr>\n",
       "      <th>2017-01-04</th>\n",
       "      <td>Wednesday</td>\n",
       "      <td>44.1</td>\n",
       "      <td>1.05</td>\n",
       "      <td>28</td>\n",
       "      <td>0.5</td>\n",
       "      <td>17</td>\n",
       "      <td>January</td>\n",
       "    </tr>\n",
       "    <tr>\n",
       "      <th>2017-01-05</th>\n",
       "      <td>Thursday</td>\n",
       "      <td>42.4</td>\n",
       "      <td>1.00</td>\n",
       "      <td>33</td>\n",
       "      <td>0.5</td>\n",
       "      <td>18</td>\n",
       "      <td>January</td>\n",
       "    </tr>\n",
       "    <tr>\n",
       "      <th>...</th>\n",
       "      <td>...</td>\n",
       "      <td>...</td>\n",
       "      <td>...</td>\n",
       "      <td>...</td>\n",
       "      <td>...</td>\n",
       "      <td>...</td>\n",
       "      <td>...</td>\n",
       "    </tr>\n",
       "    <tr>\n",
       "      <th>2017-12-27</th>\n",
       "      <td>Wednesday</td>\n",
       "      <td>42.7</td>\n",
       "      <td>1.00</td>\n",
       "      <td>33</td>\n",
       "      <td>0.5</td>\n",
       "      <td>19</td>\n",
       "      <td>December</td>\n",
       "    </tr>\n",
       "    <tr>\n",
       "      <th>2017-12-28</th>\n",
       "      <td>Thursday</td>\n",
       "      <td>37.8</td>\n",
       "      <td>1.25</td>\n",
       "      <td>32</td>\n",
       "      <td>0.5</td>\n",
       "      <td>16</td>\n",
       "      <td>December</td>\n",
       "    </tr>\n",
       "    <tr>\n",
       "      <th>2017-12-29</th>\n",
       "      <td>Friday</td>\n",
       "      <td>39.5</td>\n",
       "      <td>1.25</td>\n",
       "      <td>17</td>\n",
       "      <td>0.5</td>\n",
       "      <td>15</td>\n",
       "      <td>December</td>\n",
       "    </tr>\n",
       "    <tr>\n",
       "      <th>2017-12-30</th>\n",
       "      <td>Saturday</td>\n",
       "      <td>30.9</td>\n",
       "      <td>1.43</td>\n",
       "      <td>22</td>\n",
       "      <td>0.5</td>\n",
       "      <td>13</td>\n",
       "      <td>December</td>\n",
       "    </tr>\n",
       "    <tr>\n",
       "      <th>2017-12-31</th>\n",
       "      <td>Sunday</td>\n",
       "      <td>15.1</td>\n",
       "      <td>2.50</td>\n",
       "      <td>9</td>\n",
       "      <td>0.5</td>\n",
       "      <td>7</td>\n",
       "      <td>December</td>\n",
       "    </tr>\n",
       "  </tbody>\n",
       "</table>\n",
       "<p>361 rows × 7 columns</p>\n",
       "</div>"
      ],
      "text/plain": [
       "                  Day  Temperature  Rainfall  Flyers  Price  Sales     Month\n",
       "Date                                                                        \n",
       "2017-01-01     Sunday         27.0      2.00      15    0.5     10   January\n",
       "2017-01-02     Monday         28.9      1.33      15    0.5     13   January\n",
       "2017-01-03    Tuesday         34.5      1.33      27    0.5     15   January\n",
       "2017-01-04  Wednesday         44.1      1.05      28    0.5     17   January\n",
       "2017-01-05   Thursday         42.4      1.00      33    0.5     18   January\n",
       "...               ...          ...       ...     ...    ...    ...       ...\n",
       "2017-12-27  Wednesday         42.7      1.00      33    0.5     19  December\n",
       "2017-12-28   Thursday         37.8      1.25      32    0.5     16  December\n",
       "2017-12-29     Friday         39.5      1.25      17    0.5     15  December\n",
       "2017-12-30   Saturday         30.9      1.43      22    0.5     13  December\n",
       "2017-12-31     Sunday         15.1      2.50       9    0.5      7  December\n",
       "\n",
       "[361 rows x 7 columns]"
      ]
     },
     "execution_count": 25,
     "metadata": {},
     "output_type": "execute_result"
    }
   ],
   "source": [
    "df[(df[col] < upper_bound) & (df[col] > lower_bound)]"
   ]
  },
  {
   "cell_type": "code",
   "execution_count": 20,
   "metadata": {
    "scrolled": true
   },
   "outputs": [
    {
     "name": "stdout",
     "output_type": "stream",
     "text": [
      "Temperature\n"
     ]
    },
    {
     "data": {
      "image/png": "[encoded data removed]",
      "text/plain": [
       "<Figure size 432x288 with 1 Axes>"
      ]
     },
     "metadata": {
      "needs_background": "light"
     },
     "output_type": "display_data"
    },
    {
     "name": "stdout",
     "output_type": "stream",
     "text": [
      "Rainfall\n"
     ]
    },
    {
     "data": {
      "image/png": "[encoded data removed]",
      "text/plain": [
       "<Figure size 432x288 with 1 Axes>"
      ]
     },
     "metadata": {
      "needs_background": "light"
     },
     "output_type": "display_data"
    },
    {
     "name": "stdout",
     "output_type": "stream",
     "text": [
      "Flyers\n"
     ]
    },
    {
     "data": {
      "image/png": "[encoded data removed]",
      "text/plain": [
       "<Figure size 432x288 with 1 Axes>"
      ]
     },
     "metadata": {
      "needs_background": "light"
     },
     "output_type": "display_data"
    },
    {
     "name": "stdout",
     "output_type": "stream",
     "text": [
      "Price\n"
     ]
    },
    {
     "data": {
      "image/png": "[encoded data removed]",
      "text/plain": [
       "<Figure size 432x288 with 1 Axes>"
      ]
     },
     "metadata": {
      "needs_background": "light"
     },
     "output_type": "display_data"
    },
    {
     "name": "stdout",
     "output_type": "stream",
     "text": [
      "Sales\n"
     ]
    },
    {
     "data": {
      "image/png": "[encoded data removed]",
      "text/plain": [
       "<Figure size 432x288 with 1 Axes>"
      ]
     },
     "metadata": {
      "needs_background": "light"
     },
     "output_type": "display_data"
    }
   ],
   "source": [
    "for col in columns:\n",
    "    sns.boxplot(x=col, data= df[(df[col] < upper_bound) & (df[col] > lower_bound)])\n",
    "    print(col)\n",
    "    plt.show()"
   ]
  },
  {
   "cell_type": "markdown",
   "metadata": {},
   "source": [
    "2. Identify if any columns in lemonade.csv are normally distributed. For normally distributed columns:\n",
    "<font color=\"green\">\n",
    "- Temperature\n",
    "- Flyers\n",
    "</font>"
   ]
  },
  {
   "cell_type": "code",
   "execution_count": 21,
   "metadata": {
    "scrolled": true
   },
   "outputs": [
    {
     "name": "stdout",
     "output_type": "stream",
     "text": [
      "Temperature\n"
     ]
    },
    {
     "data": {
      "image/png": "[encoded data removed]",
      "text/plain": [
       "<Figure size 432x288 with 1 Axes>"
      ]
     },
     "metadata": {
      "needs_background": "light"
     },
     "output_type": "display_data"
    },
    {
     "name": "stdout",
     "output_type": "stream",
     "text": [
      "Rainfall\n"
     ]
    },
    {
     "data": {
      "image/png": "[encoded data removed]",
      "text/plain": [
       "<Figure size 432x288 with 1 Axes>"
      ]
     },
     "metadata": {
      "needs_background": "light"
     },
     "output_type": "display_data"
    },
    {
     "name": "stdout",
     "output_type": "stream",
     "text": [
      "Flyers\n"
     ]
    },
    {
     "data": {
      "image/png": "[encoded data removed]",
      "text/plain": [
       "<Figure size 432x288 with 1 Axes>"
      ]
     },
     "metadata": {
      "needs_background": "light"
     },
     "output_type": "display_data"
    },
    {
     "name": "stdout",
     "output_type": "stream",
     "text": [
      "Price\n"
     ]
    },
    {
     "data": {
      "image/png": "[encoded data removed]",
      "text/plain": [
       "<Figure size 432x288 with 1 Axes>"
      ]
     },
     "metadata": {
      "needs_background": "light"
     },
     "output_type": "display_data"
    },
    {
     "name": "stdout",
     "output_type": "stream",
     "text": [
      "Sales\n"
     ]
    },
    {
     "data": {
      "image/png": "[encoded data removed]",
      "text/plain": [
       "<Figure size 432x288 with 1 Axes>"
      ]
     },
     "metadata": {
      "needs_background": "light"
     },
     "output_type": "display_data"
    }
   ],
   "source": [
    "for col in columns:\n",
    "    if np.issubdtype(df[col].dtype, np.number):\n",
    "        df[col].hist()\n",
    "        print(col)\n",
    "        plt.show()"
   ]
  },
  {
   "cell_type": "markdown",
   "metadata": {},
   "source": [
    "2.1 Use a 2 sigma decision rule to isolate the outliers.\n",
    "- Do these make sense?\n",
    "- Should certain outliers be kept or removed?<font color=\"green\"></font>"
   ]
  },
  {
   "cell_type": "code",
   "execution_count": 30,
   "metadata": {},
   "outputs": [
    {
     "name": "stdout",
     "output_type": "stream",
     "text": [
      "\n",
      "~~~~~~~~~~\n",
      " Temperature\n",
      "                 Day  Temperature  Rainfall  Flyers  Price  Sales     Month  \\\n",
      "Date                                                                          \n",
      "2017-02-11  Saturday        212.0      0.91      35    0.5     21  February   \n",
      "2017-06-16    Friday         99.3      0.47      77    0.5     41      June   \n",
      "2017-06-26    Monday        102.6      0.47      60    0.5     42      June   \n",
      "2017-07-01  Saturday        102.9      0.47      59    0.5    143      July   \n",
      "2017-07-10    Monday         98.0      0.49      66    0.5     40      July   \n",
      "2017-07-18   Tuesday         99.3      0.47      76    0.5     41      July   \n",
      "2017-07-22  Saturday         99.6      0.47      49    0.5     42      July   \n",
      "2017-07-27  Thursday         97.9      0.47      74    0.5     43      July   \n",
      "2017-12-05   Tuesday         22.0      1.82      11    0.5     10  December   \n",
      "2017-12-31    Sunday         15.1      2.50       9    0.5      7  December   \n",
      "\n",
      "            z_scores_Temperature  z_scores_Rainfall  z_scores_Flyers  \\\n",
      "Date                                                                   \n",
      "2017-02-11              8.336627           0.306792        -0.370227   \n",
      "2017-06-16              2.105251          -1.299691         2.676244   \n",
      "2017-06-26              2.287714          -1.299691         1.443149   \n",
      "2017-07-01              2.304301          -1.299691         1.370614   \n",
      "2017-07-10              2.033372          -1.226669         1.878359   \n",
      "2017-07-18              2.105251          -1.299691         2.603709   \n",
      "2017-07-22              2.121838          -1.299691         0.645264   \n",
      "2017-07-27              2.027843          -1.299691         2.458639   \n",
      "2017-12-05             -2.168799           3.629291        -2.111067   \n",
      "2017-12-31             -2.550311           6.112037        -2.256137   \n",
      "\n",
      "            z_scores_Price  z_scores_Sales  \n",
      "Date                                        \n",
      "2017-02-11             NaN       -0.221847  \n",
      "2017-06-16             NaN        0.424395  \n",
      "2017-06-26             NaN        0.456708  \n",
      "2017-07-01             NaN        3.720233  \n",
      "2017-07-10             NaN        0.392083  \n",
      "2017-07-18             NaN        0.424395  \n",
      "2017-07-22             NaN        0.456708  \n",
      "2017-07-27             NaN        0.489020  \n",
      "2017-12-05             NaN       -0.577281  \n",
      "2017-12-31             NaN       -0.674217  \n",
      "\n",
      "~~~~~~~~~~\n",
      " Rainfall\n",
      "                  Day  Temperature  Rainfall  Flyers  Price  Sales     Month  \\\n",
      "Date                                                                           \n",
      "2017-01-01     Sunday         27.0      2.00      15    0.5     10   January   \n",
      "2017-01-06     Friday         25.3      1.54      23    0.5     11   January   \n",
      "2017-01-07   Saturday         32.9      1.54      19    0.5     13   January   \n",
      "2017-01-11  Wednesday         32.6      1.54      23    0.5     12   January   \n",
      "2017-01-16     Monday         30.6      1.67      24    0.5     12   January   \n",
      "2017-01-17    Tuesday         32.2      1.43      26    0.5     14   January   \n",
      "2017-01-20     Friday         31.6      1.43      20    0.5     12   January   \n",
      "2017-01-24    Tuesday         28.6      1.54      20    0.5     12   January   \n",
      "2017-12-04     Monday         34.9      1.54      16    0.5     13  December   \n",
      "2017-12-05    Tuesday         22.0      1.82      11    0.5     10  December   \n",
      "2017-12-09   Saturday         31.2      1.43      19    0.5     14  December   \n",
      "2017-12-10     Sunday         31.3      1.82      15    0.5     11  December   \n",
      "2017-12-13  Wednesday         32.2      1.43      26    0.5     14  December   \n",
      "2017-12-14   Thursday         31.9      1.54      24    0.5     13  December   \n",
      "2017-12-18     Monday         30.9      1.43      27    0.5     13  December   \n",
      "2017-12-22     Friday         30.9      1.54      17    0.5     13  December   \n",
      "2017-12-26    Tuesday         28.9      1.43      23    0.5     13  December   \n",
      "2017-12-30   Saturday         30.9      1.43      22    0.5     13  December   \n",
      "2017-12-31     Sunday         15.1      2.50       9    0.5      7  December   \n",
      "\n",
      "            z_scores_Temperature  z_scores_Rainfall  z_scores_Flyers  \\\n",
      "Date                                                                   \n",
      "2017-01-01             -1.892340           4.286488        -1.820927   \n",
      "2017-01-06             -1.986336           2.606983        -1.240647   \n",
      "2017-01-07             -1.566119           2.606983        -1.530787   \n",
      "2017-01-11             -1.582706           2.606983        -1.240647   \n",
      "2017-01-16             -1.693290           3.081626        -1.168112   \n",
      "2017-01-17             -1.604823           2.205363        -1.023042   \n",
      "2017-01-20             -1.637998           2.205363        -1.458252   \n",
      "2017-01-24             -1.803873           2.606983        -1.458252   \n",
      "2017-12-04             -1.455535           2.606983        -1.748392   \n",
      "2017-12-05             -2.168799           3.629291        -2.111067   \n",
      "2017-12-09             -1.660115           2.205363        -1.530787   \n",
      "2017-12-10             -1.654586           3.629291        -1.820927   \n",
      "2017-12-13             -1.604823           2.205363        -1.023042   \n",
      "2017-12-14             -1.621411           2.606983        -1.168112   \n",
      "2017-12-18             -1.676702           2.205363        -0.950507   \n",
      "2017-12-22             -1.676702           2.606983        -1.675857   \n",
      "2017-12-26             -1.787286           2.205363        -1.240647   \n",
      "2017-12-30             -1.676702           2.205363        -1.313182   \n",
      "2017-12-31             -2.550311           6.112037        -2.256137   \n",
      "\n",
      "            z_scores_Price  z_scores_Sales  \n",
      "Date                                        \n",
      "2017-01-01             NaN       -0.577281  \n",
      "2017-01-06             NaN       -0.544968  \n",
      "2017-01-07             NaN       -0.480344  \n",
      "2017-01-11             NaN       -0.512656  \n",
      "2017-01-16             NaN       -0.512656  \n",
      "2017-01-17             NaN       -0.448032  \n",
      "2017-01-20             NaN       -0.512656  \n",
      "2017-01-24             NaN       -0.512656  \n",
      "2017-12-04             NaN       -0.480344  \n",
      "2017-12-05             NaN       -0.577281  \n",
      "2017-12-09             NaN       -0.448032  \n",
      "2017-12-10             NaN       -0.544968  \n",
      "2017-12-13             NaN       -0.448032  \n",
      "2017-12-14             NaN       -0.480344  \n",
      "2017-12-18             NaN       -0.480344  \n",
      "2017-12-22             NaN       -0.480344  \n",
      "2017-12-26             NaN       -0.480344  \n",
      "2017-12-30             NaN       -0.480344  \n",
      "2017-12-31             NaN       -0.674217  \n",
      "\n",
      "~~~~~~~~~~\n",
      " Flyers\n",
      "                  Day  Temperature  Rainfall  Flyers  Price  Sales     Month  \\\n",
      "Date                                                                           \n",
      "2017-06-16     Friday         99.3      0.47      77    0.5     41      June   \n",
      "2017-06-20    Tuesday         85.1      0.54      70    0.5     37      June   \n",
      "2017-06-21  Wednesday         94.3      0.47      76    0.5     41      June   \n",
      "2017-07-02     Sunday         93.4      0.51      68    0.5    158      July   \n",
      "2017-07-03     Monday         81.5      0.54      68    0.5    235      July   \n",
      "2017-07-14     Friday         92.0      0.50      80    0.5     40      July   \n",
      "2017-07-18    Tuesday         99.3      0.47      76    0.5     41      July   \n",
      "2017-07-23     Sunday         89.1      0.51      72    0.5     37      July   \n",
      "2017-07-24     Monday         83.5      0.57      69    0.5     35      July   \n",
      "2017-07-27   Thursday         97.9      0.47      74    0.5     43      July   \n",
      "2017-11-21    Tuesday         47.0      0.95     -38    0.5     20  November   \n",
      "2017-12-05    Tuesday         22.0      1.82      11    0.5     10  December   \n",
      "2017-12-31     Sunday         15.1      2.50       9    0.5      7  December   \n",
      "\n",
      "            z_scores_Temperature  z_scores_Rainfall  z_scores_Flyers  \\\n",
      "Date                                                                   \n",
      "2017-06-16              2.105251          -1.299691         2.676244   \n",
      "2017-06-20              1.320109          -1.044114         2.168499   \n",
      "2017-06-21              1.828792          -1.299691         2.603709   \n",
      "2017-07-02              1.779030          -1.153647         2.023429   \n",
      "2017-07-03              1.121058          -1.044114         2.023429   \n",
      "2017-07-14              1.701621          -1.190158         2.893849   \n",
      "2017-07-18              2.105251          -1.299691         2.603709   \n",
      "2017-07-23              1.541275          -1.153647         2.313569   \n",
      "2017-07-24              1.231642          -0.934581         2.095964   \n",
      "2017-07-27              2.027843          -1.299691         2.458639   \n",
      "2017-11-21             -0.786506           0.452836        -5.665283   \n",
      "2017-12-05             -2.168799           3.629291        -2.111067   \n",
      "2017-12-31             -2.550311           6.112037        -2.256137   \n",
      "\n",
      "            z_scores_Price  z_scores_Sales  \n",
      "Date                                        \n",
      "2017-06-16             NaN        0.424395  \n",
      "2017-06-20             NaN        0.295147  \n",
      "2017-06-21             NaN        0.424395  \n",
      "2017-07-02             NaN        4.204914  \n",
      "2017-07-03             NaN        6.692948  \n",
      "2017-07-14             NaN        0.392083  \n",
      "2017-07-18             NaN        0.424395  \n",
      "2017-07-23             NaN        0.295147  \n",
      "2017-07-24             NaN        0.230523  \n",
      "2017-07-27             NaN        0.489020  \n",
      "2017-11-21             NaN       -0.254159  \n",
      "2017-12-05             NaN       -0.577281  \n",
      "2017-12-31             NaN       -0.674217  \n",
      "\n",
      "~~~~~~~~~~\n",
      " Price\n",
      "Empty DataFrame\n",
      "Columns: [Day, Temperature, Rainfall, Flyers, Price, Sales, Month, z_scores_Temperature, z_scores_Rainfall, z_scores_Flyers, z_scores_Price, z_scores_Sales]\n",
      "Index: []\n",
      "\n",
      "~~~~~~~~~~\n",
      " Sales\n",
      "                 Day  Temperature  Rainfall  Flyers  Price  Sales Month  \\\n",
      "Date                                                                      \n",
      "2017-07-01  Saturday        102.9      0.47      59    0.5    143  July   \n",
      "2017-07-02    Sunday         93.4      0.51      68    0.5    158  July   \n",
      "2017-07-03    Monday         81.5      0.54      68    0.5    235  July   \n",
      "2017-07-04   Tuesday         84.2      0.59      49    0.5    534  July   \n",
      "\n",
      "            z_scores_Temperature  z_scores_Rainfall  z_scores_Flyers  \\\n",
      "Date                                                                   \n",
      "2017-07-01              2.304301          -1.299691         1.370614   \n",
      "2017-07-02              1.779030          -1.153647         2.023429   \n",
      "2017-07-03              1.121058          -1.044114         2.023429   \n",
      "2017-07-04              1.270346          -0.861559         0.645264   \n",
      "\n",
      "            z_scores_Price  z_scores_Sales  \n",
      "Date                                        \n",
      "2017-07-01             NaN        3.720233  \n",
      "2017-07-02             NaN        4.204914  \n",
      "2017-07-03             NaN        6.692948  \n",
      "2017-07-04             NaN       16.354275  \n"
     ]
    }
   ],
   "source": [
    "for col in columns:\n",
    "    z_scores = pd.Series((df[col] - df[col].mean()) / df[col].std())\n",
    "    colname = 'z_scores_' + str(col)\n",
    "    df[colname] = z_scores\n",
    "    print('\\n~~~~~~~~~~\\n', col)\n",
    "    print(df[z_scores.abs() >= 2])\n"
   ]
  },
  {
   "cell_type": "markdown",
   "metadata": {},
   "source": [
    "3. Now use a 3 sigma decision rule to isolate the outliers in the normally distributed columns from lemonade.csv"
   ]
  },
  {
   "cell_type": "code",
   "execution_count": 31,
   "metadata": {},
   "outputs": [
    {
     "name": "stdout",
     "output_type": "stream",
     "text": [
      "\n",
      "~~~~~~~~~~\n",
      " Temperature\n",
      "                 Day  Temperature  Rainfall  Flyers  Price  Sales     Month  \\\n",
      "Date                                                                          \n",
      "2017-02-11  Saturday        212.0      0.91      35    0.5     21  February   \n",
      "\n",
      "            z_scores_Temperature  z_scores_Rainfall  z_scores_Flyers  \\\n",
      "Date                                                                   \n",
      "2017-02-11              8.336627           0.306792        -0.370227   \n",
      "\n",
      "            z_scores_Price  z_scores_Sales  \n",
      "Date                                        \n",
      "2017-02-11             NaN       -0.221847  \n",
      "\n",
      "~~~~~~~~~~\n",
      " Rainfall\n",
      "                Day  Temperature  Rainfall  Flyers  Price  Sales     Month  \\\n",
      "Date                                                                         \n",
      "2017-01-01   Sunday         27.0      2.00      15    0.5     10   January   \n",
      "2017-01-16   Monday         30.6      1.67      24    0.5     12   January   \n",
      "2017-12-05  Tuesday         22.0      1.82      11    0.5     10  December   \n",
      "2017-12-10   Sunday         31.3      1.82      15    0.5     11  December   \n",
      "2017-12-31   Sunday         15.1      2.50       9    0.5      7  December   \n",
      "\n",
      "            z_scores_Temperature  z_scores_Rainfall  z_scores_Flyers  \\\n",
      "Date                                                                   \n",
      "2017-01-01             -1.892340           4.286488        -1.820927   \n",
      "2017-01-16             -1.693290           3.081626        -1.168112   \n",
      "2017-12-05             -2.168799           3.629291        -2.111067   \n",
      "2017-12-10             -1.654586           3.629291        -1.820927   \n",
      "2017-12-31             -2.550311           6.112037        -2.256137   \n",
      "\n",
      "            z_scores_Price  z_scores_Sales  \n",
      "Date                                        \n",
      "2017-01-01             NaN       -0.577281  \n",
      "2017-01-16             NaN       -0.512656  \n",
      "2017-12-05             NaN       -0.577281  \n",
      "2017-12-10             NaN       -0.544968  \n",
      "2017-12-31             NaN       -0.674217  \n",
      "\n",
      "~~~~~~~~~~\n",
      " Flyers\n",
      "                Day  Temperature  Rainfall  Flyers  Price  Sales     Month  \\\n",
      "Date                                                                         \n",
      "2017-11-21  Tuesday         47.0      0.95     -38    0.5     20  November   \n",
      "\n",
      "            z_scores_Temperature  z_scores_Rainfall  z_scores_Flyers  \\\n",
      "Date                                                                   \n",
      "2017-11-21             -0.786506           0.452836        -5.665283   \n",
      "\n",
      "            z_scores_Price  z_scores_Sales  \n",
      "Date                                        \n",
      "2017-11-21             NaN       -0.254159  \n",
      "\n",
      "~~~~~~~~~~\n",
      " Price\n",
      "Empty DataFrame\n",
      "Columns: [Day, Temperature, Rainfall, Flyers, Price, Sales, Month, z_scores_Temperature, z_scores_Rainfall, z_scores_Flyers, z_scores_Price, z_scores_Sales]\n",
      "Index: []\n",
      "\n",
      "~~~~~~~~~~\n",
      " Sales\n",
      "                 Day  Temperature  Rainfall  Flyers  Price  Sales Month  \\\n",
      "Date                                                                      \n",
      "2017-07-01  Saturday        102.9      0.47      59    0.5    143  July   \n",
      "2017-07-02    Sunday         93.4      0.51      68    0.5    158  July   \n",
      "2017-07-03    Monday         81.5      0.54      68    0.5    235  July   \n",
      "2017-07-04   Tuesday         84.2      0.59      49    0.5    534  July   \n",
      "\n",
      "            z_scores_Temperature  z_scores_Rainfall  z_scores_Flyers  \\\n",
      "Date                                                                   \n",
      "2017-07-01              2.304301          -1.299691         1.370614   \n",
      "2017-07-02              1.779030          -1.153647         2.023429   \n",
      "2017-07-03              1.121058          -1.044114         2.023429   \n",
      "2017-07-04              1.270346          -0.861559         0.645264   \n",
      "\n",
      "            z_scores_Price  z_scores_Sales  \n",
      "Date                                        \n",
      "2017-07-01             NaN        3.720233  \n",
      "2017-07-02             NaN        4.204914  \n",
      "2017-07-03             NaN        6.692948  \n",
      "2017-07-04             NaN       16.354275  \n"
     ]
    }
   ],
   "source": [
    "for col in columns:\n",
    "    z_scores = pd.Series((df[col] - df[col].mean()) / df[col].std())\n",
    "    colname = 'z_scores_' + str(col)\n",
    "    df[colname] = z_scores\n",
    "    \n",
    "    print('\\n~~~~~~~~~~\\n', col)\n",
    "    print(df[z_scores.abs() >= 3])"
   ]
  },
  {
   "cell_type": "code",
   "execution_count": 30,
   "metadata": {},
   "outputs": [
    {
     "data": {
      "text/html": [
       "<div>\n",
       "<style scoped>\n",
       "    .dataframe tbody tr th:only-of-type {\n",
       "        vertical-align: middle;\n",
       "    }\n",
       "\n",
       "    .dataframe tbody tr th {\n",
       "        vertical-align: top;\n",
       "    }\n",
       "\n",
       "    .dataframe thead th {\n",
       "        text-align: right;\n",
       "    }\n",
       "</style>\n",
       "<table border=\"1\" class=\"dataframe\">\n",
       "  <thead>\n",
       "    <tr style=\"text-align: right;\">\n",
       "      <th></th>\n",
       "      <th>Day</th>\n",
       "      <th>Temperature</th>\n",
       "      <th>Rainfall</th>\n",
       "      <th>Flyers</th>\n",
       "      <th>Price</th>\n",
       "      <th>Sales</th>\n",
       "      <th>Month</th>\n",
       "      <th>z_scores_Temperature</th>\n",
       "      <th>z_scores_Rainfall</th>\n",
       "      <th>z_scores_Flyers</th>\n",
       "      <th>z_scores_Price</th>\n",
       "      <th>z_scores_Sales</th>\n",
       "    </tr>\n",
       "    <tr>\n",
       "      <th>Date</th>\n",
       "      <th></th>\n",
       "      <th></th>\n",
       "      <th></th>\n",
       "      <th></th>\n",
       "      <th></th>\n",
       "      <th></th>\n",
       "      <th></th>\n",
       "      <th></th>\n",
       "      <th></th>\n",
       "      <th></th>\n",
       "      <th></th>\n",
       "      <th></th>\n",
       "    </tr>\n",
       "  </thead>\n",
       "  <tbody>\n",
       "    <tr>\n",
       "      <th>2017-01-01</th>\n",
       "      <td>Sunday</td>\n",
       "      <td>27.0</td>\n",
       "      <td>2.00</td>\n",
       "      <td>15</td>\n",
       "      <td>0.5</td>\n",
       "      <td>10</td>\n",
       "      <td>January</td>\n",
       "      <td>-1.892340</td>\n",
       "      <td>4.286488</td>\n",
       "      <td>-1.820927</td>\n",
       "      <td>NaN</td>\n",
       "      <td>-0.577281</td>\n",
       "    </tr>\n",
       "    <tr>\n",
       "      <th>2017-01-02</th>\n",
       "      <td>Monday</td>\n",
       "      <td>28.9</td>\n",
       "      <td>1.33</td>\n",
       "      <td>15</td>\n",
       "      <td>0.5</td>\n",
       "      <td>13</td>\n",
       "      <td>January</td>\n",
       "      <td>-1.787286</td>\n",
       "      <td>1.840253</td>\n",
       "      <td>-1.820927</td>\n",
       "      <td>NaN</td>\n",
       "      <td>-0.480344</td>\n",
       "    </tr>\n",
       "    <tr>\n",
       "      <th>2017-01-03</th>\n",
       "      <td>Tuesday</td>\n",
       "      <td>34.5</td>\n",
       "      <td>1.33</td>\n",
       "      <td>27</td>\n",
       "      <td>0.5</td>\n",
       "      <td>15</td>\n",
       "      <td>January</td>\n",
       "      <td>-1.477652</td>\n",
       "      <td>1.840253</td>\n",
       "      <td>-0.950507</td>\n",
       "      <td>NaN</td>\n",
       "      <td>-0.415720</td>\n",
       "    </tr>\n",
       "    <tr>\n",
       "      <th>2017-01-04</th>\n",
       "      <td>Wednesday</td>\n",
       "      <td>44.1</td>\n",
       "      <td>1.05</td>\n",
       "      <td>28</td>\n",
       "      <td>0.5</td>\n",
       "      <td>17</td>\n",
       "      <td>January</td>\n",
       "      <td>-0.946852</td>\n",
       "      <td>0.817946</td>\n",
       "      <td>-0.877972</td>\n",
       "      <td>NaN</td>\n",
       "      <td>-0.351096</td>\n",
       "    </tr>\n",
       "    <tr>\n",
       "      <th>2017-01-05</th>\n",
       "      <td>Thursday</td>\n",
       "      <td>42.4</td>\n",
       "      <td>1.00</td>\n",
       "      <td>33</td>\n",
       "      <td>0.5</td>\n",
       "      <td>18</td>\n",
       "      <td>January</td>\n",
       "      <td>-1.040848</td>\n",
       "      <td>0.635391</td>\n",
       "      <td>-0.515297</td>\n",
       "      <td>NaN</td>\n",
       "      <td>-0.318783</td>\n",
       "    </tr>\n",
       "  </tbody>\n",
       "</table>\n",
       "</div>"
      ],
      "text/plain": [
       "                  Day  Temperature  Rainfall  Flyers  Price  Sales    Month  \\\n",
       "Date                                                                          \n",
       "2017-01-01     Sunday         27.0      2.00      15    0.5     10  January   \n",
       "2017-01-02     Monday         28.9      1.33      15    0.5     13  January   \n",
       "2017-01-03    Tuesday         34.5      1.33      27    0.5     15  January   \n",
       "2017-01-04  Wednesday         44.1      1.05      28    0.5     17  January   \n",
       "2017-01-05   Thursday         42.4      1.00      33    0.5     18  January   \n",
       "\n",
       "            z_scores_Temperature  z_scores_Rainfall  z_scores_Flyers  \\\n",
       "Date                                                                   \n",
       "2017-01-01             -1.892340           4.286488        -1.820927   \n",
       "2017-01-02             -1.787286           1.840253        -1.820927   \n",
       "2017-01-03             -1.477652           1.840253        -0.950507   \n",
       "2017-01-04             -0.946852           0.817946        -0.877972   \n",
       "2017-01-05             -1.040848           0.635391        -0.515297   \n",
       "\n",
       "            z_scores_Price  z_scores_Sales  \n",
       "Date                                        \n",
       "2017-01-01             NaN       -0.577281  \n",
       "2017-01-02             NaN       -0.480344  \n",
       "2017-01-03             NaN       -0.415720  \n",
       "2017-01-04             NaN       -0.351096  \n",
       "2017-01-05             NaN       -0.318783  "
      ]
     },
     "execution_count": 30,
     "metadata": {},
     "output_type": "execute_result"
    }
   ],
   "source": [
    "df.head()"
   ]
  },
  {
   "cell_type": "markdown",
   "metadata": {},
   "source": [
    "# Takin' Care Of Business"
   ]
  },
  {
   "cell_type": "code",
   "execution_count": 32,
   "metadata": {},
   "outputs": [],
   "source": [
    "#remove most likely typo of negative Flyers anomoly\n",
    "df['Flyers'] = df['Flyers'].abs()"
   ]
  },
  {
   "cell_type": "code",
   "execution_count": 33,
   "metadata": {},
   "outputs": [
    {
     "data": {
      "text/plain": [
       "<AxesSubplot:>"
      ]
     },
     "execution_count": 33,
     "metadata": {},
     "output_type": "execute_result"
    },
    {
     "data": {
      "image/png": "[encoded data removed]",
      "text/plain": [
       "<Figure size 432x288 with 1 Axes>"
      ]
     },
     "metadata": {
      "needs_background": "light"
     },
     "output_type": "display_data"
    }
   ],
   "source": [
    "df['Flyers'].hist()"
   ]
  },
  {
   "cell_type": "code",
   "execution_count": 34,
   "metadata": {},
   "outputs": [
    {
     "data": {
      "text/html": [
       "<div>\n",
       "<style scoped>\n",
       "    .dataframe tbody tr th:only-of-type {\n",
       "        vertical-align: middle;\n",
       "    }\n",
       "\n",
       "    .dataframe tbody tr th {\n",
       "        vertical-align: top;\n",
       "    }\n",
       "\n",
       "    .dataframe thead th {\n",
       "        text-align: right;\n",
       "    }\n",
       "</style>\n",
       "<table border=\"1\" class=\"dataframe\">\n",
       "  <thead>\n",
       "    <tr style=\"text-align: right;\">\n",
       "      <th></th>\n",
       "      <th>Day</th>\n",
       "      <th>Temperature</th>\n",
       "      <th>Rainfall</th>\n",
       "      <th>Flyers</th>\n",
       "      <th>Price</th>\n",
       "      <th>Sales</th>\n",
       "      <th>Month</th>\n",
       "      <th>z_scores_Temperature</th>\n",
       "      <th>z_scores_Rainfall</th>\n",
       "      <th>z_scores_Flyers</th>\n",
       "      <th>z_scores_Price</th>\n",
       "      <th>z_scores_Sales</th>\n",
       "    </tr>\n",
       "    <tr>\n",
       "      <th>Date</th>\n",
       "      <th></th>\n",
       "      <th></th>\n",
       "      <th></th>\n",
       "      <th></th>\n",
       "      <th></th>\n",
       "      <th></th>\n",
       "      <th></th>\n",
       "      <th></th>\n",
       "      <th></th>\n",
       "      <th></th>\n",
       "      <th></th>\n",
       "      <th></th>\n",
       "    </tr>\n",
       "  </thead>\n",
       "  <tbody>\n",
       "    <tr>\n",
       "      <th>2017-02-11</th>\n",
       "      <td>Saturday</td>\n",
       "      <td>212.0</td>\n",
       "      <td>0.91</td>\n",
       "      <td>35</td>\n",
       "      <td>0.5</td>\n",
       "      <td>21</td>\n",
       "      <td>February</td>\n",
       "      <td>8.336627</td>\n",
       "      <td>0.306792</td>\n",
       "      <td>-0.370227</td>\n",
       "      <td>NaN</td>\n",
       "      <td>-0.221847</td>\n",
       "    </tr>\n",
       "  </tbody>\n",
       "</table>\n",
       "</div>"
      ],
      "text/plain": [
       "                 Day  Temperature  Rainfall  Flyers  Price  Sales     Month  \\\n",
       "Date                                                                          \n",
       "2017-02-11  Saturday        212.0      0.91      35    0.5     21  February   \n",
       "\n",
       "            z_scores_Temperature  z_scores_Rainfall  z_scores_Flyers  \\\n",
       "Date                                                                   \n",
       "2017-02-11              8.336627           0.306792        -0.370227   \n",
       "\n",
       "            z_scores_Price  z_scores_Sales  \n",
       "Date                                        \n",
       "2017-02-11             NaN       -0.221847  "
      ]
     },
     "execution_count": 34,
     "metadata": {},
     "output_type": "execute_result"
    }
   ],
   "source": [
    "#address boiling temperature\n",
    "df[df['Temperature'] > 200]"
   ]
  },
  {
   "cell_type": "code",
   "execution_count": 35,
   "metadata": {},
   "outputs": [
    {
     "data": {
      "text/html": [
       "<div>\n",
       "<style scoped>\n",
       "    .dataframe tbody tr th:only-of-type {\n",
       "        vertical-align: middle;\n",
       "    }\n",
       "\n",
       "    .dataframe tbody tr th {\n",
       "        vertical-align: top;\n",
       "    }\n",
       "\n",
       "    .dataframe thead th {\n",
       "        text-align: right;\n",
       "    }\n",
       "</style>\n",
       "<table border=\"1\" class=\"dataframe\">\n",
       "  <thead>\n",
       "    <tr style=\"text-align: right;\">\n",
       "      <th></th>\n",
       "      <th>Day</th>\n",
       "      <th>Temperature</th>\n",
       "      <th>Rainfall</th>\n",
       "      <th>Flyers</th>\n",
       "      <th>Price</th>\n",
       "      <th>Sales</th>\n",
       "      <th>Month</th>\n",
       "      <th>z_scores_Temperature</th>\n",
       "      <th>z_scores_Rainfall</th>\n",
       "      <th>z_scores_Flyers</th>\n",
       "      <th>z_scores_Price</th>\n",
       "      <th>z_scores_Sales</th>\n",
       "    </tr>\n",
       "    <tr>\n",
       "      <th>Date</th>\n",
       "      <th></th>\n",
       "      <th></th>\n",
       "      <th></th>\n",
       "      <th></th>\n",
       "      <th></th>\n",
       "      <th></th>\n",
       "      <th></th>\n",
       "      <th></th>\n",
       "      <th></th>\n",
       "      <th></th>\n",
       "      <th></th>\n",
       "      <th></th>\n",
       "    </tr>\n",
       "  </thead>\n",
       "  <tbody>\n",
       "    <tr>\n",
       "      <th>2017-02-08</th>\n",
       "      <td>Wednesday</td>\n",
       "      <td>52.6</td>\n",
       "      <td>0.87</td>\n",
       "      <td>31</td>\n",
       "      <td>0.5</td>\n",
       "      <td>22</td>\n",
       "      <td>February</td>\n",
       "      <td>-0.476872</td>\n",
       "      <td>0.160748</td>\n",
       "      <td>-0.660367</td>\n",
       "      <td>NaN</td>\n",
       "      <td>-0.189535</td>\n",
       "    </tr>\n",
       "    <tr>\n",
       "      <th>2017-02-09</th>\n",
       "      <td>Thursday</td>\n",
       "      <td>42.7</td>\n",
       "      <td>1.00</td>\n",
       "      <td>39</td>\n",
       "      <td>0.5</td>\n",
       "      <td>19</td>\n",
       "      <td>February</td>\n",
       "      <td>-1.024260</td>\n",
       "      <td>0.635391</td>\n",
       "      <td>-0.080087</td>\n",
       "      <td>NaN</td>\n",
       "      <td>-0.286471</td>\n",
       "    </tr>\n",
       "    <tr>\n",
       "      <th>2017-02-10</th>\n",
       "      <td>Friday</td>\n",
       "      <td>50.0</td>\n",
       "      <td>0.91</td>\n",
       "      <td>40</td>\n",
       "      <td>0.5</td>\n",
       "      <td>20</td>\n",
       "      <td>February</td>\n",
       "      <td>-0.620631</td>\n",
       "      <td>0.306792</td>\n",
       "      <td>-0.007552</td>\n",
       "      <td>NaN</td>\n",
       "      <td>-0.254159</td>\n",
       "    </tr>\n",
       "    <tr>\n",
       "      <th>2017-02-11</th>\n",
       "      <td>Saturday</td>\n",
       "      <td>212.0</td>\n",
       "      <td>0.91</td>\n",
       "      <td>35</td>\n",
       "      <td>0.5</td>\n",
       "      <td>21</td>\n",
       "      <td>February</td>\n",
       "      <td>8.336627</td>\n",
       "      <td>0.306792</td>\n",
       "      <td>-0.370227</td>\n",
       "      <td>NaN</td>\n",
       "      <td>-0.221847</td>\n",
       "    </tr>\n",
       "    <tr>\n",
       "      <th>2017-02-12</th>\n",
       "      <td>Sunday</td>\n",
       "      <td>55.6</td>\n",
       "      <td>0.83</td>\n",
       "      <td>41</td>\n",
       "      <td>0.5</td>\n",
       "      <td>22</td>\n",
       "      <td>February</td>\n",
       "      <td>-0.310997</td>\n",
       "      <td>0.014704</td>\n",
       "      <td>0.064983</td>\n",
       "      <td>NaN</td>\n",
       "      <td>-0.189535</td>\n",
       "    </tr>\n",
       "    <tr>\n",
       "      <th>2017-02-13</th>\n",
       "      <td>Monday</td>\n",
       "      <td>46.4</td>\n",
       "      <td>1.11</td>\n",
       "      <td>34</td>\n",
       "      <td>0.5</td>\n",
       "      <td>18</td>\n",
       "      <td>February</td>\n",
       "      <td>-0.819681</td>\n",
       "      <td>1.037012</td>\n",
       "      <td>-0.442762</td>\n",
       "      <td>NaN</td>\n",
       "      <td>-0.318783</td>\n",
       "    </tr>\n",
       "  </tbody>\n",
       "</table>\n",
       "</div>"
      ],
      "text/plain": [
       "                  Day  Temperature  Rainfall  Flyers  Price  Sales     Month  \\\n",
       "Date                                                                           \n",
       "2017-02-08  Wednesday         52.6      0.87      31    0.5     22  February   \n",
       "2017-02-09   Thursday         42.7      1.00      39    0.5     19  February   \n",
       "2017-02-10     Friday         50.0      0.91      40    0.5     20  February   \n",
       "2017-02-11   Saturday        212.0      0.91      35    0.5     21  February   \n",
       "2017-02-12     Sunday         55.6      0.83      41    0.5     22  February   \n",
       "2017-02-13     Monday         46.4      1.11      34    0.5     18  February   \n",
       "\n",
       "            z_scores_Temperature  z_scores_Rainfall  z_scores_Flyers  \\\n",
       "Date                                                                   \n",
       "2017-02-08             -0.476872           0.160748        -0.660367   \n",
       "2017-02-09             -1.024260           0.635391        -0.080087   \n",
       "2017-02-10             -0.620631           0.306792        -0.007552   \n",
       "2017-02-11              8.336627           0.306792        -0.370227   \n",
       "2017-02-12             -0.310997           0.014704         0.064983   \n",
       "2017-02-13             -0.819681           1.037012        -0.442762   \n",
       "\n",
       "            z_scores_Price  z_scores_Sales  \n",
       "Date                                        \n",
       "2017-02-08             NaN       -0.189535  \n",
       "2017-02-09             NaN       -0.286471  \n",
       "2017-02-10             NaN       -0.254159  \n",
       "2017-02-11             NaN       -0.221847  \n",
       "2017-02-12             NaN       -0.189535  \n",
       "2017-02-13             NaN       -0.318783  "
      ]
     },
     "execution_count": 35,
     "metadata": {},
     "output_type": "execute_result"
    }
   ],
   "source": [
    "df.loc['2017-02-08': '2017-02-13']"
   ]
  },
  {
   "cell_type": "code",
   "execution_count": 36,
   "metadata": {},
   "outputs": [],
   "source": [
    "df.loc['2017-02-11', 'Temperature'] = df.loc['2017-02-10']['Temperature']"
   ]
  },
  {
   "cell_type": "code",
   "execution_count": 37,
   "metadata": {},
   "outputs": [
    {
     "data": {
      "text/plain": [
       "Day                     Saturday\n",
       "Temperature                   50\n",
       "Rainfall                    0.91\n",
       "Flyers                        35\n",
       "Price                        0.5\n",
       "Sales                         21\n",
       "Month                   February\n",
       "z_scores_Temperature     8.33663\n",
       "z_scores_Rainfall       0.306792\n",
       "z_scores_Flyers        -0.370227\n",
       "z_scores_Price               NaN\n",
       "z_scores_Sales         -0.221847\n",
       "Name: 2017-02-11 00:00:00, dtype: object"
      ]
     },
     "execution_count": 37,
     "metadata": {},
     "output_type": "execute_result"
    }
   ],
   "source": [
    "df.loc['2017-02-11']"
   ]
  },
  {
   "cell_type": "code",
   "execution_count": 38,
   "metadata": {},
   "outputs": [
    {
     "data": {
      "text/html": [
       "<div>\n",
       "<style scoped>\n",
       "    .dataframe tbody tr th:only-of-type {\n",
       "        vertical-align: middle;\n",
       "    }\n",
       "\n",
       "    .dataframe tbody tr th {\n",
       "        vertical-align: top;\n",
       "    }\n",
       "\n",
       "    .dataframe thead th {\n",
       "        text-align: right;\n",
       "    }\n",
       "</style>\n",
       "<table border=\"1\" class=\"dataframe\">\n",
       "  <thead>\n",
       "    <tr style=\"text-align: right;\">\n",
       "      <th></th>\n",
       "      <th>Day</th>\n",
       "      <th>Temperature</th>\n",
       "      <th>Rainfall</th>\n",
       "      <th>Flyers</th>\n",
       "      <th>Price</th>\n",
       "      <th>Sales</th>\n",
       "      <th>Month</th>\n",
       "      <th>z_scores_Temperature</th>\n",
       "      <th>z_scores_Rainfall</th>\n",
       "      <th>z_scores_Flyers</th>\n",
       "      <th>z_scores_Price</th>\n",
       "      <th>z_scores_Sales</th>\n",
       "    </tr>\n",
       "    <tr>\n",
       "      <th>Date</th>\n",
       "      <th></th>\n",
       "      <th></th>\n",
       "      <th></th>\n",
       "      <th></th>\n",
       "      <th></th>\n",
       "      <th></th>\n",
       "      <th></th>\n",
       "      <th></th>\n",
       "      <th></th>\n",
       "      <th></th>\n",
       "      <th></th>\n",
       "      <th></th>\n",
       "    </tr>\n",
       "  </thead>\n",
       "  <tbody>\n",
       "  </tbody>\n",
       "</table>\n",
       "</div>"
      ],
      "text/plain": [
       "Empty DataFrame\n",
       "Columns: [Day, Temperature, Rainfall, Flyers, Price, Sales, Month, z_scores_Temperature, z_scores_Rainfall, z_scores_Flyers, z_scores_Price, z_scores_Sales]\n",
       "Index: []"
      ]
     },
     "execution_count": 38,
     "metadata": {},
     "output_type": "execute_result"
    }
   ],
   "source": [
    "df[df['Temperature'] > 200]"
   ]
  },
  {
   "cell_type": "code",
   "execution_count": null,
   "metadata": {},
   "outputs": [],
   "source": []
  },
  {
   "cell_type": "code",
   "execution_count": null,
   "metadata": {},
   "outputs": [],
   "source": []
  },
  {
   "cell_type": "code",
   "execution_count": null,
   "metadata": {},
   "outputs": [],
   "source": []
  }
 ],
 "metadata": {
  "kernelspec": {
   "display_name": "Python 3",
   "language": "python",
   "name": "python3"
  },
  "language_info": {
   "codemirror_mode": {
    "name": "ipython",
    "version": 3
   },
   "file_extension": ".py",
   "mimetype": "text/x-python",
   "name": "python",
   "nbconvert_exporter": "python",
   "pygments_lexer": "ipython3",
   "version": "3.8.5"
  }
 },
 "nbformat": 4,
 "nbformat_minor": 4
}
